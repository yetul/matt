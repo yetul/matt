{
 "cells": [
  {
   "cell_type": "markdown",
   "metadata": {},
   "source": [
    "# Leaflet cluster map of talk locations\n",
    "\n",
    "Run this from the _talks/ directory, which contains .md files of all your talks. This scrapes the location YAML field from each .md file, geolocates it with geopy/Nominatim, and uses the getorg library to output data, HTML, and Javascript for a standalone cluster map."
   ]
  },
  {
   "cell_type": "code",
   "execution_count": 1,
   "metadata": {},
   "outputs": [
    {
     "name": "stdout",
     "output_type": "stream",
     "text": [
      "Requirement already up-to-date: getorg in /usr/local/lib/python3.5/dist-packages (0.3.1)\n",
      "Requirement already satisfied, skipping upgrade: pygithub in /usr/local/lib/python3.5/dist-packages (from getorg) (1.43.4)\n",
      "Requirement already satisfied, skipping upgrade: retrying in /usr/local/lib/python3.5/dist-packages (from getorg) (1.3.3)\n",
      "Requirement already satisfied, skipping upgrade: geopy in /usr/local/lib/python3.5/dist-packages (from getorg) (1.18.1)\n",
      "Requirement already satisfied, skipping upgrade: requests>=2.14.0 in /usr/local/lib/python3.5/dist-packages (from pygithub->getorg) (2.21.0)\n",
      "Requirement already satisfied, skipping upgrade: pyjwt in /usr/lib/python3/dist-packages (from pygithub->getorg) (1.3.0)\n",
      "Requirement already satisfied, skipping upgrade: Deprecated in /usr/local/lib/python3.5/dist-packages (from pygithub->getorg) (1.2.4)\n",
      "Requirement already satisfied, skipping upgrade: six>=1.7.0 in /usr/lib/python3/dist-packages (from retrying->getorg) (1.10.0)\n",
      "Requirement already satisfied, skipping upgrade: geographiclib<2,>=1.49 in /usr/local/lib/python3.5/dist-packages (from geopy->getorg) (1.49)\n",
      "Requirement already satisfied, skipping upgrade: chardet<3.1.0,>=3.0.2 in /usr/local/lib/python3.5/dist-packages (from requests>=2.14.0->pygithub->getorg) (3.0.4)\n",
      "Requirement already satisfied, skipping upgrade: idna<2.9,>=2.5 in /usr/local/lib/python3.5/dist-packages (from requests>=2.14.0->pygithub->getorg) (2.8)\n",
      "Requirement already satisfied, skipping upgrade: certifi>=2017.4.17 in /usr/local/lib/python3.5/dist-packages (from requests>=2.14.0->pygithub->getorg) (2018.11.29)\n",
      "Requirement already satisfied, skipping upgrade: urllib3<1.25,>=1.21.1 in /usr/local/lib/python3.5/dist-packages (from requests>=2.14.0->pygithub->getorg) (1.24.1)\n",
      "Requirement already satisfied, skipping upgrade: wrapt<2,>=1 in /usr/local/lib/python3.5/dist-packages (from Deprecated->pygithub->getorg) (1.10.11)\n",
      "IPywidgets and ipyleaflet support enabled.\n"
     ]
    }
   ],
   "source": [
    "!pip install getorg --upgrade\n",
    "import glob\n",
    "import getorg\n",
    "from geopy import Nominatim"
   ]
  },
  {
   "cell_type": "code",
   "execution_count": 2,
   "metadata": {},
   "outputs": [],
   "source": [
    "g = glob.glob(\"*.md\")"
   ]
  },
  {
   "cell_type": "code",
   "execution_count": 9,
   "metadata": {},
   "outputs": [],
   "source": [
    "geocoder = Nominatim(user_agent=\"my-application\")\n",
    "location_dict = {}\n",
    "location = \"\"\n",
    "permalink = \"\"\n",
    "title = \"\""
   ]
  },
  {
   "cell_type": "code",
   "execution_count": 10,
   "metadata": {},
   "outputs": [
    {
     "name": "stdout",
     "output_type": "stream",
     "text": [
      "Las Vegas, NV USA \n",
      " Las Vegas, Clark County, Nevada, USA\n",
      "Marquette, MI USA \n",
      " Marquette, Marquette County, Michigan, 49855, USA\n",
      "Chicago, IL USA \n",
      " Chicago, Cook County, Illinois, USA\n",
      "Pensacola, FL USA \n",
      " Pensacola, Escambia County, Florida, USA\n",
      "Oklahoma City, OK USA \n",
      " Oklahoma City, Oklahoma County, Oklahoma, USA\n",
      "New York, NY USA \n",
      " NYC, New York, USA\n",
      "San Diego, CA USA \n",
      " San Diego, San Diego County, California, USA\n",
      "Asheville, NC USA \n",
      " Asheville, Buncombe County, North Carolina, USA\n",
      "Miami, FL USA \n",
      " Miami, Miami-Dade County, Florida, USA\n"
     ]
    }
   ],
   "source": [
    "\n",
    "for file in g:\n",
    "    with open(file, 'r') as f:\n",
    "        lines = f.read()\n",
    "        if lines.find('location: \"') > 1:\n",
    "            loc_start = lines.find('location: \"') + 11\n",
    "            lines_trim = lines[loc_start:]\n",
    "            loc_end = lines_trim.find('\"')\n",
    "            location = lines_trim[:loc_end]\n",
    "                            \n",
    "           \n",
    "        location_dict[location] = geocoder.geocode(location)\n",
    "        print(location, \"\\n\", location_dict[location])\n"
   ]
  },
  {
   "cell_type": "code",
   "execution_count": 7,
   "metadata": {},
   "outputs": [
    {
     "data": {
      "text/plain": [
       "'Written map to ../talkmap/'"
      ]
     },
     "execution_count": 7,
     "metadata": {},
     "output_type": "execute_result"
    }
   ],
   "source": [
    "m = getorg.orgmap.create_map_obj()\n",
    "getorg.orgmap.output_html_cluster_map(location_dict, folder_name=\"../talkmap\", hashed_usernames=False)"
   ]
  },
  {
   "cell_type": "code",
   "execution_count": null,
   "metadata": {},
   "outputs": [],
   "source": []
  },
  {
   "cell_type": "code",
   "execution_count": null,
   "metadata": {},
   "outputs": [],
   "source": []
  },
  {
   "cell_type": "code",
   "execution_count": null,
   "metadata": {},
   "outputs": [],
   "source": []
  }
 ],
 "metadata": {
  "anaconda-cloud": {},
  "kernelspec": {
   "display_name": "Python 2",
   "language": "python",
   "name": "python2"
  },
  "language_info": {
   "codemirror_mode": {
    "name": "ipython",
    "version": 3
   },
   "file_extension": ".py",
   "mimetype": "text/x-python",
   "name": "python",
   "nbconvert_exporter": "python",
   "pygments_lexer": "ipython3",
   "version": "3.5.2"
  }
 },
 "nbformat": 4,
 "nbformat_minor": 1
}
